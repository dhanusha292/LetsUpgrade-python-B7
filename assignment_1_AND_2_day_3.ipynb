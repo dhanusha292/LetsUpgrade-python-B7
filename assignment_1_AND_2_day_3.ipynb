{
  "nbformat": 4,
  "nbformat_minor": 0,
  "metadata": {
    "colab": {
      "name": "assignment 1 AND 2 day 3.ipynb",
      "provenance": [],
      "collapsed_sections": [],
      "toc_visible": true,
      "authorship_tag": "ABX9TyMHXBfzTKc8h6ZbgtHTkk+j",
      "include_colab_link": true
    },
    "kernelspec": {
      "name": "python3",
      "display_name": "Python 3"
    }
  },
  "cells": [
    {
      "cell_type": "markdown",
      "metadata": {
        "id": "view-in-github",
        "colab_type": "text"
      },
      "source": [
        "<a href=\"https://colab.research.google.com/github/dhanusha292/LetsUpgrade-python-B7/blob/master/assignment_1_AND_2_day_3.ipynb\" target=\"_parent\"><img src=\"https://colab.research.google.com/assets/colab-badge.svg\" alt=\"Open In Colab\"/></a>"
      ]
    },
    {
      "cell_type": "code",
      "metadata": {
        "id": "ck0H4z0Y3T0t",
        "colab_type": "code",
        "colab": {
          "base_uri": "https://localhost:8080/",
          "height": 51
        },
        "outputId": "9083eb1d-1e71-4277-9a7a-3523fea99aec"
      },
      "source": [
        "#[YOU ARE THE PILOTS ,YOU HAVE TO LAND  A PLANE,THE ALTITUDE REQURIED FOR LANDING\n",
        "# IS 1000FT,IF LESS THAN THST TELL THE PILOT TO LAND THE PLANE,OR IT IS MORE THAN\n",
        "# THAT NUT LESS THAN 5000FT ASK THE PILOT TO COME DOWN TO 1000FTELSE IF IT IS MORE THAN 5000FT\n",
        "#ASK THE PILOT TO GO AROUND AND TRY LATER]\n",
        "altitude=int(input())\n",
        "if(altitude==1000):\n",
        "   print(\"Safe to land\")\n",
        "elif(altitude<1000):\n",
        "    print(\"Safe to land\")\n",
        "elif((altitude>1000)and(altitude<5000)):\n",
        "    print(\"Bring Down to 1000\")\n",
        "else:\n",
        "  print(\"Trun Around\")"
      ],
      "execution_count": 1,
      "outputs": [
        {
          "output_type": "stream",
          "text": [
            "4567\n",
            "Bring Down to 1000\n"
          ],
          "name": "stdout"
        }
      ]
    },
    {
      "cell_type": "code",
      "metadata": {
        "id": "3a6nvwK5Tgy2",
        "colab_type": "code",
        "colab": {
          "base_uri": "https://localhost:8080/",
          "height": 799
        },
        "outputId": "4b2aba56-a079-4a1a-ea90-e1251032e1f3"
      },
      "source": [
        "#PRINT ALL PRIME NUMBERS BETWEEN 1 - 200....\n",
        "for num in range(0,201):\n",
        "  if num>1:\n",
        "    for j in range(2,num):\n",
        "        if (num%j)==0:\n",
        "            break\n",
        "    else:\n",
        "      print(num)\n",
        "            \n",
        "\n"
      ],
      "execution_count": 16,
      "outputs": [
        {
          "output_type": "stream",
          "text": [
            "2\n",
            "3\n",
            "5\n",
            "7\n",
            "11\n",
            "13\n",
            "17\n",
            "19\n",
            "23\n",
            "29\n",
            "31\n",
            "37\n",
            "41\n",
            "43\n",
            "47\n",
            "53\n",
            "59\n",
            "61\n",
            "67\n",
            "71\n",
            "73\n",
            "79\n",
            "83\n",
            "89\n",
            "97\n",
            "101\n",
            "103\n",
            "107\n",
            "109\n",
            "113\n",
            "127\n",
            "131\n",
            "137\n",
            "139\n",
            "149\n",
            "151\n",
            "157\n",
            "163\n",
            "167\n",
            "173\n",
            "179\n",
            "181\n",
            "191\n",
            "193\n",
            "197\n",
            "199\n"
          ],
          "name": "stdout"
        }
      ]
    }
  ]
}