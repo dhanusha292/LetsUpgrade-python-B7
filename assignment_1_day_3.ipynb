{
  "nbformat": 4,
  "nbformat_minor": 0,
  "metadata": {
    "colab": {
      "name": "assignment 1 day 3.ipynb",
      "provenance": [],
      "collapsed_sections": [],
      "toc_visible": true,
      "authorship_tag": "ABX9TyNINa3lY1AkiwHRSt7Eisv0",
      "include_colab_link": true
    },
    "kernelspec": {
      "name": "python3",
      "display_name": "Python 3"
    }
  },
  "cells": [
    {
      "cell_type": "markdown",
      "metadata": {
        "id": "view-in-github",
        "colab_type": "text"
      },
      "source": [
        "<a href=\"https://colab.research.google.com/github/dhanusha292/LetsUpgrade-python-B7/blob/master/assignment_1_day_3.ipynb\" target=\"_parent\"><img src=\"https://colab.research.google.com/assets/colab-badge.svg\" alt=\"Open In Colab\"/></a>"
      ]
    },
    {
      "cell_type": "code",
      "metadata": {
        "id": "ck0H4z0Y3T0t",
        "colab_type": "code",
        "colab": {
          "base_uri": "https://localhost:8080/",
          "height": 51
        },
        "outputId": "9083eb1d-1e71-4277-9a7a-3523fea99aec"
      },
      "source": [
        "altitude=int(input())\n",
        "if(altitude==1000):\n",
        "   print(\"Safe to land\")\n",
        "elif(altitude<1000):\n",
        "    print(\"Safe to land\")\n",
        "elif((altitude>1000)and(altitude<5000)):\n",
        "    print(\"Bring Down to 1000\")\n",
        "else:\n",
        "  print(\"Trun Around\")"
      ],
      "execution_count": 1,
      "outputs": [
        {
          "output_type": "stream",
          "text": [
            "4567\n",
            "Bring Down to 1000\n"
          ],
          "name": "stdout"
        }
      ]
    }
  ]
}