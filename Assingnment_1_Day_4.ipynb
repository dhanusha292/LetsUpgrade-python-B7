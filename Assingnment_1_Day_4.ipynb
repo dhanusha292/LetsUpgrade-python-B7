{
  "nbformat": 4,
  "nbformat_minor": 0,
  "metadata": {
    "colab": {
      "name": "Assingnment 1 Day 4",
      "provenance": [],
      "authorship_tag": "ABX9TyN/n6x9GQGnTGqpFLuz7b2o",
      "include_colab_link": true
    },
    "kernelspec": {
      "name": "python3",
      "display_name": "Python 3"
    }
  },
  "cells": [
    {
      "cell_type": "markdown",
      "metadata": {
        "id": "view-in-github",
        "colab_type": "text"
      },
      "source": [
        "<a href=\"https://colab.research.google.com/github/dhanusha292/LetsUpgrade-python-B7/blob/master/Assingnment_1_Day_4.ipynb\" target=\"_parent\"><img src=\"https://colab.research.google.com/assets/colab-badge.svg\" alt=\"Open In Colab\"/></a>"
      ]
    },
    {
      "cell_type": "code",
      "metadata": {
        "id": "zIpxrXbw7ddD",
        "colab_type": "code",
        "colab": {}
      },
      "source": [
        "#Find first Amrmstrong number for the range of 1042000 to 702648265"
      ],
      "execution_count": null,
      "outputs": []
    },
    {
      "cell_type": "code",
      "metadata": {
        "id": "JjcyogYg8NOe",
        "colab_type": "code",
        "colab": {
          "base_uri": "https://localhost:8080/",
          "height": 34
        },
        "outputId": "82460c15-1d3d-4ba6-d9a7-585a9a41bb84"
      },
      "source": [
        "r=1042000\n",
        "d=702648265\n",
        "for num in range(r,d+1):\n",
        "  order=len(str(num))\n",
        "  sum=0\n",
        "  temp=num\n",
        "  while temp>0:\n",
        "     digit=temp%10\n",
        "     sum+=digit**order\n",
        "     temp//=10\n",
        "  if num==sum:\n",
        "    print(num)\n",
        "    break\n",
        "        \n",
        "\n",
        "\n"
      ],
      "execution_count": 8,
      "outputs": [
        {
          "output_type": "stream",
          "text": [
            "1741725\n"
          ],
          "name": "stdout"
        }
      ]
    }
  ]
}